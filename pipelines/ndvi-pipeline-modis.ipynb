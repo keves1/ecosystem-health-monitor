{
 "cells": [
  {
   "cell_type": "code",
   "execution_count": null,
   "id": "5525023f",
   "metadata": {},
   "outputs": [],
   "source": [
    "import json\n",
    "import os\n",
    "\n",
    "import leafmap.foliumap as leafmap\n",
    "import matplotlib.pyplot as plt\n",
    "import pystac_client\n",
    "import s3fs\n",
    "import xarray as xr\n",
    "from dask.distributed import Client as DaskClient\n",
    "from dotenv import load_dotenv\n",
    "from odc.stac import load\n",
    "from planetary_computer import sign_url\n",
    "from shapely.geometry import shape"
   ]
  },
  {
   "cell_type": "code",
   "execution_count": null,
   "id": "c482ceba",
   "metadata": {},
   "outputs": [],
   "source": [
    "load_dotenv()"
   ]
  },
  {
   "cell_type": "code",
   "execution_count": null,
   "id": "a704d988",
   "metadata": {},
   "outputs": [],
   "source": [
    "dask_client = DaskClient()\n",
    "dask_client"
   ]
  },
  {
   "cell_type": "code",
   "execution_count": null,
   "id": "43257132",
   "metadata": {},
   "outputs": [],
   "source": [
    "m = leafmap.Map(draw_export=True)\n",
    "m.add_basemap(\"ESA WorldCover 2021\")\n",
    "m.add_legend(builtin_legend=\"ESA_WorldCover\")\n",
    "m.add_vector(\"aoi.geojson\")\n",
    "m"
   ]
  },
  {
   "cell_type": "code",
   "execution_count": null,
   "id": "4b6d0813",
   "metadata": {},
   "outputs": [],
   "source": [
    "with open(\"aoi.geojson\") as file:\n",
    "    area_of_interest = json.load(file)\n",
    "    area_of_interest = area_of_interest[\"features\"][0][\"geometry\"]\n",
    "    geom = shape(area_of_interest)\n",
    "    bbox = list(geom.bounds)"
   ]
  },
  {
   "cell_type": "code",
   "execution_count": null,
   "id": "b53990ab",
   "metadata": {},
   "outputs": [],
   "source": [
    "catalog = pystac_client.Client.open(\n",
    "    \"https://planetarycomputer.microsoft.com/api/stac/v1/\"\n",
    ")\n",
    "collection = \"modis-09Q1-061\"\n",
    "bbox = bbox\n",
    "start_date = \"2024-07\"\n",
    "end_date = \"2025-07-18\""
   ]
  },
  {
   "cell_type": "code",
   "execution_count": null,
   "id": "086a916b",
   "metadata": {},
   "outputs": [],
   "source": [
    "search = catalog.search(\n",
    "    collections=[collection],\n",
    "    bbox=bbox,\n",
    "    datetime=f\"{start_date}/{end_date}\",\n",
    ")\n",
    "items = search.item_collection()"
   ]
  },
  {
   "cell_type": "code",
   "execution_count": null,
   "id": "b70b0d1c",
   "metadata": {},
   "outputs": [],
   "source": [
    "len(items)"
   ]
  },
  {
   "cell_type": "code",
   "execution_count": null,
   "id": "965f5818",
   "metadata": {},
   "outputs": [],
   "source": [
    "data = load(\n",
    "    items,\n",
    "    bands=[\"red\", \"nir08\", \"sur_refl_qc_250m\"],\n",
    "    bbox=bbox,\n",
    "    chunks={\"x\": 2048, \"y\": 2048},\n",
    "    groupby=\"solar_day\",\n",
    "    patch_url=sign_url,\n",
    ")"
   ]
  },
  {
   "cell_type": "code",
   "execution_count": null,
   "id": "bc3751af",
   "metadata": {},
   "outputs": [],
   "source": [
    "data"
   ]
  },
  {
   "cell_type": "code",
   "execution_count": null,
   "id": "9a96c861",
   "metadata": {},
   "outputs": [],
   "source": [
    "# Mask out low-quality pixels\n",
    "mask = data.sur_refl_qc_250m.where((data.sur_refl_qc_250m & 0b11110000) == 0)\n",
    "\n",
    "data = data.where(mask)\n",
    "data = data.drop_vars(\"sur_refl_qc_250m\")"
   ]
  },
  {
   "cell_type": "code",
   "execution_count": null,
   "id": "2aab1829",
   "metadata": {},
   "outputs": [],
   "source": [
    "ndvi = (data.nir08 - data.red) / (data.nir08 + data.red)\n",
    "data[\"ndvi\"] = ndvi.clip(-1, 1)\n",
    "data = data.drop_vars([\"red\", \"nir08\"])"
   ]
  },
  {
   "cell_type": "code",
   "execution_count": null,
   "id": "79087958",
   "metadata": {},
   "outputs": [],
   "source": [
    "data"
   ]
  },
  {
   "cell_type": "code",
   "execution_count": null,
   "id": "6831a13f",
   "metadata": {},
   "outputs": [],
   "source": [
    "data = data.compute()"
   ]
  },
  {
   "cell_type": "code",
   "execution_count": null,
   "id": "bc02ee83",
   "metadata": {},
   "outputs": [],
   "source": [
    "data.to_zarr(\"data/ndvi.zarr\", mode=\"w\", consolidated=True)"
   ]
  },
  {
   "cell_type": "code",
   "execution_count": null,
   "id": "99318475",
   "metadata": {},
   "outputs": [],
   "source": [
    "# Start here if data is already downloaded\n",
    "data = xr.open_zarr(\"data/ndvi.zarr\", chunks={\"time\": -1, \"x\": 2048, \"y\": 2048})\n",
    "ndvi = data.ndvi"
   ]
  },
  {
   "cell_type": "code",
   "execution_count": null,
   "id": "1cf4e657",
   "metadata": {},
   "outputs": [],
   "source": [
    "ndvi"
   ]
  },
  {
   "cell_type": "code",
   "execution_count": null,
   "id": "56b7b74a",
   "metadata": {},
   "outputs": [],
   "source": [
    "ndvi_time_series = ndvi.mean(dim=[\"x\", \"y\"])"
   ]
  },
  {
   "cell_type": "code",
   "execution_count": null,
   "id": "0055fcce",
   "metadata": {},
   "outputs": [],
   "source": [
    "plt.plot(\n",
    "    ndvi_time_series[\"time\"].values,\n",
    "    ndvi_time_series.values,\n",
    "    marker=\".\",\n",
    ")"
   ]
  },
  {
   "cell_type": "code",
   "execution_count": null,
   "id": "de0dd222",
   "metadata": {},
   "outputs": [],
   "source": [
    "ndvi.isel(time=slice(0, 6)).plot(col=\"time\", col_wrap=3, cmap=\"viridis\")"
   ]
  },
  {
   "cell_type": "code",
   "execution_count": null,
   "id": "e80d2c6a",
   "metadata": {},
   "outputs": [],
   "source": [
    "filled = ndvi.interpolate_na(\"time\", method=\"linear\").bfill(\"time\").ffill(\"time\")"
   ]
  },
  {
   "cell_type": "code",
   "execution_count": null,
   "id": "e4783c10",
   "metadata": {},
   "outputs": [],
   "source": [
    "smoothed = filled.rolling(time=3, center=True).mean()"
   ]
  },
  {
   "cell_type": "code",
   "execution_count": null,
   "id": "5fc0ccb5",
   "metadata": {},
   "outputs": [],
   "source": [
    "# start and end dates are nan after rolling average\n",
    "trimmed = smoothed.isel(time=slice(1, -1))"
   ]
  },
  {
   "cell_type": "code",
   "execution_count": null,
   "id": "e7bb6e0a",
   "metadata": {},
   "outputs": [],
   "source": [
    "mean = ndvi.mean(dim=[\"x\", \"y\"])\n",
    "smoothed_mean = smoothed.mean(dim=[\"x\", \"y\"])\n",
    "\n",
    "plt.scatter(\n",
    "    mean[\"time\"].values,\n",
    "    mean.values,\n",
    "    s=10,\n",
    "    color=\"orange\",\n",
    "    label=\"Original Data\",\n",
    ")\n",
    "plt.plot(\n",
    "    smoothed_mean[\"time\"].values,\n",
    "    smoothed_mean.values,\n",
    "    marker=\".\",\n",
    "    label=\"Rolling average\",\n",
    ")\n",
    "plt.title(\"Mean Value Over Time\")\n",
    "plt.xlabel(\"Time\")\n",
    "plt.ylabel(\"Mean Value\")\n",
    "plt.grid(True)\n",
    "plt.legend()"
   ]
  },
  {
   "cell_type": "code",
   "execution_count": null,
   "id": "6799f350",
   "metadata": {},
   "outputs": [],
   "source": [
    "trimmed.to_zarr(\"data/ndvi_processed.zarr\", mode=\"w\", consolidated=True)"
   ]
  },
  {
   "cell_type": "code",
   "execution_count": null,
   "id": "7330f222",
   "metadata": {},
   "outputs": [],
   "source": [
    "bucket_name = os.environ[\"S3_BUCKET\"]\n",
    "s3_path = f\"{bucket_name}/ndvi_processed.zarr\"\n",
    "fs = s3fs.S3FileSystem()\n",
    "fs.put(\"./data/ndvi_processed.zarr/\", s3_path, recursive=True)"
   ]
  },
  {
   "cell_type": "code",
   "execution_count": null,
   "id": "572e1c03",
   "metadata": {},
   "outputs": [],
   "source": [
    "fs.put(\"last_end_date.txt\", bucket_name)\n",
    "fs.put(\"aoi.geojson\", bucket_name)"
   ]
  }
 ],
 "metadata": {
  "kernelspec": {
   "display_name": "pipelines",
   "language": "python",
   "name": "python3"
  },
  "language_info": {
   "codemirror_mode": {
    "name": "ipython",
    "version": 3
   },
   "file_extension": ".py",
   "mimetype": "text/x-python",
   "name": "python",
   "nbconvert_exporter": "python",
   "pygments_lexer": "ipython3",
   "version": "3.11.13"
  }
 },
 "nbformat": 4,
 "nbformat_minor": 5
}
